{
 "cells": [
  {
   "cell_type": "markdown",
   "metadata": {},
   "source": [
    "# Encapsulation\n",
    "\n",
    "# 1. composite encapsulation"
   ]
  },
  {
   "cell_type": "markdown",
   "metadata": {},
   "source": [
    "@@@@@  call other classes in one class through object.. \n",
    "(not by direct data,string)\n"
   ]
  },
  {
   "cell_type": "code",
   "execution_count": 2,
   "metadata": {},
   "outputs": [
    {
     "name": "stdout",
     "output_type": "stream",
     "text": [
      "Tyres: \n",
      " \tBranch: Pirelli\n",
      " \tBelted-bias: True\n",
      " \tOptimal pressure: 2.0\n",
      "Engine: \n",
      " \tFuel type: Diesel\n",
      " \tNoise level:3\n",
      "Body:\n",
      " \tSize: Medium\n"
     ]
    }
   ],
   "source": [
    "class Tyres:\n",
    "    def __init__(self, branch, belted_bias, opt_pressure):\n",
    "        self.branch = branch\n",
    "        self.belted_bias = belted_bias\n",
    "        self.opt_pressure = opt_pressure\n",
    "        \n",
    "    def __str__(self):\n",
    "        return (\"Tyres: \\n \\tBranch: \" + self.branch +\n",
    "               \"\\n \\tBelted-bias: \" + str(self.belted_bias) + \n",
    "               \"\\n \\tOptimal pressure: \" + str(self.opt_pressure))\n",
    "        \n",
    "class Engine:\n",
    "    def __init__(self, fuel_type, noise_level):\n",
    "        self.fuel_type = fuel_type\n",
    "        self.noise_level = noise_level\n",
    "        \n",
    "    def __str__(self):\n",
    "        return (\"Engine: \\n \\tFuel type: \" + self.fuel_type +\n",
    "                \"\\n \\tNoise level:\" + str(self.noise_level))\n",
    "        \n",
    "class Body:\n",
    "    def __init__(self, size):\n",
    "        self.size = size\n",
    "        \n",
    "    def __str__(self):\n",
    "        return \"Body:\\n \\tSize: \" + self.size\n",
    "        \n",
    "class Car:\n",
    "    def __init__(self, tyres, engine, body):\n",
    "        self.tyres = tyres\n",
    "        self.engine = engine\n",
    "        self.body = body\n",
    "        \n",
    "    def __str__(self):\n",
    "        return str(self.tyres) + \"\\n\" + str(self.engine) + \"\\n\" + str(self.body)\n",
    "\n",
    "        \n",
    "t = Tyres('Pirelli', True, 2.0)\n",
    "e = Engine('Diesel', 3)\n",
    "b = Body('Medium')\n",
    "c = Car(t, e, b)\n",
    "print(c)"
   ]
  },
  {
   "cell_type": "markdown",
   "metadata": {},
   "source": [
    "# 2.dynamic encapsulation"
   ]
  },
  {
   "cell_type": "markdown",
   "metadata": {},
   "source": [
    "@@@@@@   call other classes in one class through direct data/string/some of object(not all  objects)\\\n",
    "that's the main diff btw these two encapsulation"
   ]
  },
  {
   "cell_type": "code",
   "execution_count": 3,
   "metadata": {},
   "outputs": [
    {
     "name": "stdout",
     "output_type": "stream",
     "text": [
      "Kudrjavka is a Laika born in 1954.\n"
     ]
    }
   ],
   "source": [
    "# 1 .example\n",
    "class Dog:\n",
    "    def __init__(self, name, year_of_birth, breed):\n",
    "        self._name = name\n",
    "        self._year_of_birth = year_of_birth\n",
    "        self._breed = breed\n",
    "\n",
    "    def __str__(self):\n",
    "        return \"%s is a %s born in %d.\" % (self._name, self._breed, self._year_of_birth)\n",
    "\n",
    "kudrjavka = Dog(\"Kudrjavka\", 1954, \"Laika\")\n",
    "print(kudrjavka)"
   ]
  },
  {
   "cell_type": "code",
   "execution_count": 4,
   "metadata": {},
   "outputs": [
    {
     "name": "stdout",
     "output_type": "stream",
     "text": [
      "dsfs Student ID: 1\n",
      "Kudrjavka is a Laika born in 1954. Student ID: 2\n"
     ]
    }
   ],
   "source": [
    "# 2 .example\n",
    "class Student:\n",
    "    def __init__(self, anagraphic, student_id):\n",
    "        self._anagraphic = anagraphic\n",
    "        self._student_id = student_id\n",
    "    def __str__(self):\n",
    "        return str(self._anagraphic) + \" Student ID: %d\" % self._student_id\n",
    "\n",
    "\n",
    "alec_student = Student(\"dsfs\",1)\n",
    "kudrjavka_student = Student(kudrjavka, 2)\n",
    "\n",
    "print(alec_student)\n",
    "print(kudrjavka_student)"
   ]
  },
  {
   "cell_type": "markdown",
   "metadata": {},
   "source": [
    "# @@@@@@@   Tasks   @@@@@@@\n",
    "\n",
    "class 1 -> a1,a2,a3 (variable)\\\n",
    "    m1\\\n",
    "class 2 ->b1,b2,b3\\\n",
    "    m2\\\n",
    "class 3 ->c1,c2,c3\\\n",
    "    m3\\\n",
    "class 4 ->d1,d2,d3\\\n",
    " call m1,m2,m3 by class 4"
   ]
  },
  {
   "cell_type": "code",
   "execution_count": 43,
   "metadata": {},
   "outputs": [],
   "source": [
    "class A:\n",
    "    def __init__(self,a1,a2,a3):\n",
    "        self.a1=a1\n",
    "        self.a2=a2\n",
    "        self.a3=a3\n",
    "    def __str__(self):\n",
    "        return \" a1 = %d \\n a2 = %d \\n a3 = %d.\" % (self.a1, self.a2, self.a3)\n",
    "class B:\n",
    "    def __init__(self,b1,b2,b3):\n",
    "        self.b1=b1\n",
    "        self.b2=b2\n",
    "        self.b3=b3\n",
    "    def __str__(self):\n",
    "        return \" b1 = %d \\n b2 = %d \\n b3 = %d.\" % (self.b1, self.b2, self.b3)\n",
    "class C:\n",
    "    def __init__(self,c1,c2,c3):\n",
    "        self.c1=c1\n",
    "        self.c2=c2\n",
    "        self.c3=c3\n",
    "    def __str__(self):\n",
    "        return \" c1 = %d \\n c2 = %d \\n c3 = %d.\" % (self.c1, self.c2, self.c3)\n",
    "class D:\n",
    "    def __init__(self,d1,d2,d3):\n",
    "        self.d1=d1\n",
    "        self.d2=d2\n",
    "        self.d3=d3\n",
    "    def __str__(self):\n",
    "        return \" d1 :\\n%s \\n\\n d2 :\\n%s \\n\\n d3 :\\n%s.\" % (self.d1, self.d2, self.d3)    \n",
    "    "
   ]
  },
  {
   "cell_type": "code",
   "execution_count": 44,
   "metadata": {},
   "outputs": [
    {
     "name": "stdout",
     "output_type": "stream",
     "text": [
      " d1 :\n",
      " a1 = 2 \n",
      " a2 = 3 \n",
      " a3 = 4. \n",
      "\n",
      " d2 :\n",
      " b1 = 3 \n",
      " b2 = 4 \n",
      " b3 = 5. \n",
      "\n",
      " d3 :\n",
      " c1 = 7 \n",
      " c2 = 8 \n",
      " c3 = 9..\n"
     ]
    }
   ],
   "source": [
    "a=A(2,3,4)\n",
    "b=B(3,4,5)\n",
    "c=C(7,8,9)\n",
    "d=D(a,b,c)\n",
    "#print(a)\n",
    "#print(b)\n",
    "#print(c)\n",
    "print(d)"
   ]
  },
  {
   "cell_type": "code",
   "execution_count": 48,
   "metadata": {},
   "outputs": [],
   "source": [
    "class A:\n",
    "    def __init__(self,a1,a2,a3):\n",
    "        self.a1=a1\n",
    "        self.a2=a2\n",
    "        self.a3=a3\n",
    "    def m1(self):\n",
    "        return \" a1 = %d  a2 = %d  a3 = %d.\" % (self.a1, self.a2, self.a3)\n",
    "class B:\n",
    "    def __init__(self,b1,b2,b3):\n",
    "        self.b1=b1\n",
    "        self.b2=b2\n",
    "        self.b3=b3\n",
    "    def m2(self):\n",
    "        return \" b1 = %d  b2 = %d  b3 = %d.\" % (self.b1, self.b2, self.b3)\n",
    "class C:\n",
    "    def __init__(self,c1,c2,c3):\n",
    "        self.c1=c1\n",
    "        self.c2=c2\n",
    "        self.c3=c3\n",
    "    def m3(self):\n",
    "        return \" c1 = %d  c2 = %d  c3 = %d.\" % (self.c1, self.c2, self.c3)\n",
    "class D:\n",
    "    def __init__(self,d1,d2,d3):\n",
    "        self.d1=d1\n",
    "        self.d2=d2\n",
    "        self.d3=d3\n",
    "    def m4(self):\n",
    "        return \" d1 :\\n%s  d2 :\\n%s  d3 :\\n%s.\" % (self.d1.m1(), self.d2.m2(), self.d3.m3())    \n",
    "    "
   ]
  },
  {
   "cell_type": "code",
   "execution_count": 49,
   "metadata": {},
   "outputs": [
    {
     "data": {
      "text/plain": [
       "' d1 :\\n a1 = 2  a2 = 3  a3 = 4.  d2 :\\n b1 = 3  b2 = 4  b3 = 5.  d3 :\\n c1 = 7  c2 = 8  c3 = 9..'"
      ]
     },
     "execution_count": 49,
     "metadata": {},
     "output_type": "execute_result"
    }
   ],
   "source": [
    "a=A(2,3,4)\n",
    "b=B(3,4,5)\n",
    "c=C(7,8,9)\n",
    "d=D(a,b,c)\n",
    "\n",
    "d.m4()"
   ]
  },
  {
   "cell_type": "markdown",
   "metadata": {},
   "source": [
    "# @@@@@   task\n",
    "\n",
    "c1 -> protected variable\\\n",
    "c2 -> inherit c1\\\n",
    "\n",
    "obj=c2\\\n",
    "c2.protected variable\\\n",
    "\n",
    "#another one\\ \n",
    " private variable\n",
    " same thing"
   ]
  },
  {
   "cell_type": "code",
   "execution_count": 98,
   "metadata": {},
   "outputs": [
    {
     "name": "stdout",
     "output_type": "stream",
     "text": [
      "Protected variable a1 : 6.\n"
     ]
    },
    {
     "data": {
      "text/plain": [
       "6"
      ]
     },
     "execution_count": 98,
     "metadata": {},
     "output_type": "execute_result"
    }
   ],
   "source": [
    " ######  protected  #####\n",
    "class c1:\n",
    "    def __init__(self,a1):\n",
    "        self._a1=a1\n",
    "    def __str__(self):\n",
    "        return \"Protected variable a1 : %d.\"% (self._a1)\n",
    "class c2(c1):        \n",
    "    def __init__(self,a1):\n",
    "        c1.__init__(self,a1)\n",
    "        \n",
    "obj=c2(6)\n",
    "print(obj)\n",
    "obj._a1"
   ]
  },
  {
   "cell_type": "code",
   "execution_count": 97,
   "metadata": {},
   "outputs": [
    {
     "name": "stdout",
     "output_type": "stream",
     "text": [
      " public variable a1 : 2.\n"
     ]
    },
    {
     "data": {
      "text/plain": [
       "2"
      ]
     },
     "execution_count": 97,
     "metadata": {},
     "output_type": "execute_result"
    }
   ],
   "source": [
    "####### for public  ####\n",
    "\n",
    "class c1:\n",
    "    def __init__(self,a1):\n",
    "        self.a1=a1\n",
    "    def __str__(self):\n",
    "        return \" public variable a1 : %d.\"% (self.a1)\n",
    "class c2(c1):        \n",
    "    def __init__(self,a1):\n",
    "        c1.__init__(self,a1)\n",
    "        \n",
    "obj=c2(2)\n",
    "print(obj)\n",
    "obj.a1"
   ]
  },
  {
   "cell_type": "code",
   "execution_count": 96,
   "metadata": {},
   "outputs": [
    {
     "name": "stdout",
     "output_type": "stream",
     "text": [
      "private variable a1 : 2.\n"
     ]
    },
    {
     "data": {
      "text/plain": [
       "2"
      ]
     },
     "execution_count": 96,
     "metadata": {},
     "output_type": "execute_result"
    }
   ],
   "source": [
    " ######  private  #####\n",
    "class c1:\n",
    "    def __init__(self,a1):\n",
    "        self.__a1=a1\n",
    "    def __str__(self):\n",
    "        return \"private variable a1 : %d.\"% (self.__a1)\n",
    "class c2(c1):        \n",
    "    def __init__(self,a1):\n",
    "        c1.__init__(self,a1)\n",
    "        \n",
    "obj=c2(2)\n",
    "print(obj)\n",
    "obj._c1__a1"
   ]
  },
  {
   "cell_type": "code",
   "execution_count": 95,
   "metadata": {},
   "outputs": [
    {
     "name": "stdout",
     "output_type": "stream",
     "text": [
      "1\n",
      "2\n",
      "3\n"
     ]
    }
   ],
   "source": [
    "## all in one \n",
    "\n",
    "class c1:\n",
    "    def __init__(self,a,b,c):\n",
    "        self.a=a\n",
    "        self._b=b\n",
    "        self.__c=c\n",
    "class c2(c1):\n",
    "    pass\n",
    "\n",
    "obj=c2(1,2,3)\n",
    "print(obj.a)\n",
    "print(obj._b)\n",
    "print(obj._c1__c)"
   ]
  },
  {
   "cell_type": "code",
   "execution_count": 102,
   "metadata": {},
   "outputs": [
    {
     "name": "stdout",
     "output_type": "stream",
     "text": [
      "1\n",
      "2\n",
      "3\n"
     ]
    }
   ],
   "source": [
    "# print those variable in c2\n",
    "\n",
    "class c1:\n",
    "    def __init__(self,a,b,c):\n",
    "        self.a=a\n",
    "        self._b=b\n",
    "        self.__c=c\n",
    "\n",
    "class c2(c1):\n",
    "    def show(self):\n",
    "        print(self.a)\n",
    "        print(self._b)\n",
    "        print(self._c1__c)\n",
    "        \n",
    "obj=c2(1,2,3)\n",
    "obj.show()"
   ]
  },
  {
   "cell_type": "code",
   "execution_count": 103,
   "metadata": {},
   "outputs": [
    {
     "name": "stdout",
     "output_type": "stream",
     "text": [
      "1\n"
     ]
    },
    {
     "ename": "AttributeError",
     "evalue": "'c2' object has no attribute 'b'",
     "output_type": "error",
     "traceback": [
      "\u001b[1;31m---------------------------------------------------------------------------\u001b[0m",
      "\u001b[1;31mAttributeError\u001b[0m                            Traceback (most recent call last)",
      "\u001b[1;32m<ipython-input-103-018095f5d256>\u001b[0m in \u001b[0;36m<module>\u001b[1;34m\u001b[0m\n\u001b[0;32m     12\u001b[0m \u001b[1;33m\u001b[0m\u001b[0m\n\u001b[0;32m     13\u001b[0m \u001b[0mobj\u001b[0m\u001b[1;33m=\u001b[0m\u001b[0mc2\u001b[0m\u001b[1;33m(\u001b[0m\u001b[1;36m1\u001b[0m\u001b[1;33m,\u001b[0m\u001b[1;36m2\u001b[0m\u001b[1;33m,\u001b[0m\u001b[1;36m3\u001b[0m\u001b[1;33m)\u001b[0m\u001b[1;33m\u001b[0m\u001b[1;33m\u001b[0m\u001b[0m\n\u001b[1;32m---> 14\u001b[1;33m \u001b[0mobj\u001b[0m\u001b[1;33m.\u001b[0m\u001b[0mshow\u001b[0m\u001b[1;33m(\u001b[0m\u001b[1;33m)\u001b[0m\u001b[1;33m\u001b[0m\u001b[1;33m\u001b[0m\u001b[0m\n\u001b[0m",
      "\u001b[1;32m<ipython-input-103-018095f5d256>\u001b[0m in \u001b[0;36mshow\u001b[1;34m(self)\u001b[0m\n\u001b[0;32m      8\u001b[0m     \u001b[1;32mdef\u001b[0m \u001b[0mshow\u001b[0m\u001b[1;33m(\u001b[0m\u001b[0mself\u001b[0m\u001b[1;33m)\u001b[0m\u001b[1;33m:\u001b[0m\u001b[1;33m\u001b[0m\u001b[1;33m\u001b[0m\u001b[0m\n\u001b[0;32m      9\u001b[0m         \u001b[0mprint\u001b[0m\u001b[1;33m(\u001b[0m\u001b[0mself\u001b[0m\u001b[1;33m.\u001b[0m\u001b[0ma\u001b[0m\u001b[1;33m)\u001b[0m\u001b[1;33m\u001b[0m\u001b[1;33m\u001b[0m\u001b[0m\n\u001b[1;32m---> 10\u001b[1;33m         \u001b[0mprint\u001b[0m\u001b[1;33m(\u001b[0m\u001b[0mself\u001b[0m\u001b[1;33m.\u001b[0m\u001b[0mb\u001b[0m\u001b[1;33m)\u001b[0m\u001b[1;33m\u001b[0m\u001b[1;33m\u001b[0m\u001b[0m\n\u001b[0m\u001b[0;32m     11\u001b[0m         \u001b[0mprint\u001b[0m\u001b[1;33m(\u001b[0m\u001b[0mself\u001b[0m\u001b[1;33m.\u001b[0m\u001b[0mc\u001b[0m\u001b[1;33m)\u001b[0m\u001b[1;33m\u001b[0m\u001b[1;33m\u001b[0m\u001b[0m\n\u001b[0;32m     12\u001b[0m \u001b[1;33m\u001b[0m\u001b[0m\n",
      "\u001b[1;31mAttributeError\u001b[0m: 'c2' object has no attribute 'b'"
     ]
    }
   ],
   "source": [
    "class c1:\n",
    "    def __init__(self,a,b,c):\n",
    "        self.a=a\n",
    "        self._b=b\n",
    "        self.__c=c\n",
    "\n",
    "class c2(c1):\n",
    "    def show(self):\n",
    "        print(self.a)\n",
    "        print(self.b)\n",
    "        print(self.c)\n",
    "        \n",
    "obj=c2(1,2,3)\n",
    "obj.show()"
   ]
  },
  {
   "cell_type": "code",
   "execution_count": null,
   "metadata": {},
   "outputs": [],
   "source": [
    "# to solve the problem\n",
    "##### it is hidden from user about the abstraction of variable####\n",
    "#### combo of abstraction+inheritance+encapsulation\n",
    "class c1:\n",
    "    def __init__(self,a,b,c):\n",
    "        self.a=a\n",
    "        self._b=b\n",
    "        self.__c=c\n",
    "    def __str__(self):\n",
    "        return str(self.a)+str(self._b)+str(self._c1__c)\n",
    "\n",
    "\n",
    "######## for user #### \n",
    "\n",
    "class c2(c1):\n",
    "    def __init__(self,a):\n",
    "        self.a=a\n",
    "\n",
    "    def __str__(self):\n",
    "        return str(self.a)\n",
    "    \n",
    "obj=c1(4,6,7)\n",
    "print('input  :'+str(obj))\n",
    "obj1=c2(obj)\n",
    "print('output :'+str(obj1))"
   ]
  },
  {
   "cell_type": "markdown",
   "metadata": {},
   "source": [
    "# polymorphism and DuckTyping\n",
    "`Python` uses dynamic typing which is also called as duck typing.\\\n",
    "polymorphism is the ability to use the same syntax for objects of different types:"
   ]
  },
  {
   "cell_type": "code",
   "execution_count": 121,
   "metadata": {},
   "outputs": [
    {
     "name": "stdout",
     "output_type": "stream",
     "text": [
      "2\n",
      "['a', 'b', 'c', 'd', 'e']\n",
      "abracadabra\n"
     ]
    }
   ],
   "source": [
    "####  '+ opeartor' is same in all case but operation is different\n",
    "\n",
    "def summer(a, b):\n",
    "    return a + b\n",
    "\n",
    "print(summer(1, 1))\n",
    "print(summer([\"a\", \"b\", \"c\"], [\"d\", \"e\"]))\n",
    "print(summer(\"abra\", \"cadabra\"))"
   ]
  },
  {
   "cell_type": "markdown",
   "metadata": {},
   "source": [
    "## iPython Writing a File"
   ]
  },
  {
   "cell_type": "code",
   "execution_count": 122,
   "metadata": {},
   "outputs": [
    {
     "name": "stdout",
     "output_type": "stream",
     "text": [
      "Writing testfile.txt\n"
     ]
    }
   ],
   "source": [
    "%%writefile testfile.txt\n",
    "Hello i am testing it"
   ]
  },
  {
   "cell_type": "code",
   "execution_count": 123,
   "metadata": {},
   "outputs": [
    {
     "data": {
      "text/plain": [
       "'E:\\\\INEURON'"
      ]
     },
     "execution_count": 123,
     "metadata": {},
     "output_type": "execute_result"
    }
   ],
   "source": [
    "pwd"
   ]
  },
  {
   "cell_type": "markdown",
   "metadata": {},
   "source": [
    "# opening file"
   ]
  },
  {
   "cell_type": "code",
   "execution_count": 2,
   "metadata": {},
   "outputs": [
    {
     "data": {
      "text/plain": [
       "<_io.TextIOWrapper name='testfile.txt' mode='r' encoding='cp1252'>"
      ]
     },
     "execution_count": 2,
     "metadata": {},
     "output_type": "execute_result"
    }
   ],
   "source": [
    "myfile=open('testfile.txt')\n",
    "myfile"
   ]
  },
  {
   "cell_type": "code",
   "execution_count": 127,
   "metadata": {},
   "outputs": [
    {
     "data": {
      "text/plain": [
       "'Hello i am testing it\\n'"
      ]
     },
     "execution_count": 127,
     "metadata": {},
     "output_type": "execute_result"
    }
   ],
   "source": [
    "myfile.read()"
   ]
  },
  {
   "cell_type": "code",
   "execution_count": 129,
   "metadata": {},
   "outputs": [
    {
     "data": {
      "text/plain": [
       "''"
      ]
     },
     "execution_count": 129,
     "metadata": {},
     "output_type": "execute_result"
    }
   ],
   "source": [
    "myfile.read()  #read complete from very first index"
   ]
  },
  {
   "cell_type": "code",
   "execution_count": 132,
   "metadata": {},
   "outputs": [
    {
     "data": {
      "text/plain": [
       "'Hello i am testing it\\n'"
      ]
     },
     "execution_count": 132,
     "metadata": {},
     "output_type": "execute_result"
    }
   ],
   "source": [
    "myfile.seek(0)\n",
    "myfile.read()"
   ]
  },
  {
   "cell_type": "code",
   "execution_count": 134,
   "metadata": {},
   "outputs": [
    {
     "data": {
      "text/plain": [
       "' testing it\\n'"
      ]
     },
     "execution_count": 134,
     "metadata": {},
     "output_type": "execute_result"
    }
   ],
   "source": [
    "myfile.seek(10)\n",
    "myfile.read()"
   ]
  },
  {
   "cell_type": "code",
   "execution_count": 3,
   "metadata": {},
   "outputs": [
    {
     "data": {
      "text/plain": [
       "['Hello i am testing it\\n']"
      ]
     },
     "execution_count": 3,
     "metadata": {},
     "output_type": "execute_result"
    }
   ],
   "source": [
    "myfile.seek(0)\n",
    "myfile.readlines()  ## output shows in list"
   ]
  },
  {
   "cell_type": "markdown",
   "metadata": {},
   "source": [
    "# writing to a file"
   ]
  },
  {
   "cell_type": "code",
   "execution_count": 5,
   "metadata": {},
   "outputs": [],
   "source": [
    "myfile=open('testfile.txt')"
   ]
  },
  {
   "cell_type": "code",
   "execution_count": 6,
   "metadata": {},
   "outputs": [
    {
     "ename": "UnsupportedOperation",
     "evalue": "not writable",
     "output_type": "error",
     "traceback": [
      "\u001b[1;31m---------------------------------------------------------------------------\u001b[0m",
      "\u001b[1;31mUnsupportedOperation\u001b[0m                      Traceback (most recent call last)",
      "\u001b[1;32m<ipython-input-6-438902730738>\u001b[0m in \u001b[0;36m<module>\u001b[1;34m\u001b[0m\n\u001b[1;32m----> 1\u001b[1;33m \u001b[0mmyfile\u001b[0m\u001b[1;33m.\u001b[0m\u001b[0mwrite\u001b[0m\u001b[1;33m(\u001b[0m\u001b[1;34m'this is new line'\u001b[0m\u001b[1;33m)\u001b[0m\u001b[1;33m\u001b[0m\u001b[1;33m\u001b[0m\u001b[0m\n\u001b[0m",
      "\u001b[1;31mUnsupportedOperation\u001b[0m: not writable"
     ]
    }
   ],
   "source": [
    "myfile.write('this is new line')"
   ]
  },
  {
   "cell_type": "code",
   "execution_count": 12,
   "metadata": {},
   "outputs": [
    {
     "data": {
      "text/plain": [
       "3"
      ]
     },
     "execution_count": 12,
     "metadata": {},
     "output_type": "execute_result"
    }
   ],
   "source": [
    "#to write in file ,u have to chnage the mode to write\n",
    "myfile=open('testfile.txt',mode='w')\n",
    "myfile.write('hey')"
   ]
  },
  {
   "cell_type": "code",
   "execution_count": 16,
   "metadata": {},
   "outputs": [
    {
     "data": {
      "text/plain": [
       "14"
      ]
     },
     "execution_count": 16,
     "metadata": {},
     "output_type": "execute_result"
    }
   ],
   "source": [
    "myfile=open('testfile.txt',mode='w+')\n",
    "myfile.write('hello everyone')"
   ]
  },
  {
   "cell_type": "markdown",
   "metadata": {},
   "source": [
    "# iterating through a file"
   ]
  },
  {
   "cell_type": "code",
   "execution_count": 23,
   "metadata": {},
   "outputs": [
    {
     "name": "stdout",
     "output_type": "stream",
     "text": [
      "Overwriting test1.txt\n"
     ]
    }
   ],
   "source": [
    "%%writefile test1.txt\n",
    "first line of test\n",
    "second line of test"
   ]
  },
  {
   "cell_type": "code",
   "execution_count": 24,
   "metadata": {},
   "outputs": [],
   "source": [
    "myfile=open('test1.txt')\n",
    "#myfile.read()"
   ]
  },
  {
   "cell_type": "code",
   "execution_count": 25,
   "metadata": {},
   "outputs": [
    {
     "name": "stdout",
     "output_type": "stream",
     "text": [
      "first line of test\n",
      "\n",
      "second line of test\n",
      "\n"
     ]
    }
   ],
   "source": [
    "for line in myfile:\n",
    "    print(line)"
   ]
  },
  {
   "cell_type": "markdown",
   "metadata": {},
   "source": [
    "# stringIO"
   ]
  },
  {
   "cell_type": "code",
   "execution_count": 26,
   "metadata": {},
   "outputs": [],
   "source": [
    "from io import StringIO"
   ]
  },
  {
   "cell_type": "code",
   "execution_count": 30,
   "metadata": {},
   "outputs": [
    {
     "data": {
      "text/plain": [
       "str"
      ]
     },
     "execution_count": 30,
     "metadata": {},
     "output_type": "execute_result"
    }
   ],
   "source": [
    "# Arbitrary String\n",
    "message = 'This is just a normal string.'\n",
    "type(message)"
   ]
  },
  {
   "cell_type": "code",
   "execution_count": 29,
   "metadata": {},
   "outputs": [
    {
     "data": {
      "text/plain": [
       "_io.StringIO"
      ]
     },
     "execution_count": 29,
     "metadata": {},
     "output_type": "execute_result"
    }
   ],
   "source": [
    "# Use StringIO method to set as file object\n",
    "f = StringIO(message)\n",
    "type(f)"
   ]
  },
  {
   "cell_type": "code",
   "execution_count": 31,
   "metadata": {},
   "outputs": [
    {
     "data": {
      "text/plain": [
       "'This is just a normal string.'"
      ]
     },
     "execution_count": 31,
     "metadata": {},
     "output_type": "execute_result"
    }
   ],
   "source": [
    "f.read()   # set a cursor"
   ]
  },
  {
   "cell_type": "code",
   "execution_count": 32,
   "metadata": {},
   "outputs": [
    {
     "data": {
      "text/plain": [
       "5"
      ]
     },
     "execution_count": 32,
     "metadata": {},
     "output_type": "execute_result"
    }
   ],
   "source": [
    "#append another object\n",
    "f.write('hello')"
   ]
  },
  {
   "cell_type": "code",
   "execution_count": 34,
   "metadata": {},
   "outputs": [
    {
     "data": {
      "text/plain": [
       "' is just a normal string.hello'"
      ]
     },
     "execution_count": 34,
     "metadata": {},
     "output_type": "execute_result"
    }
   ],
   "source": [
    "f.seek(4)\n",
    "f.read()   # set a cursor"
   ]
  },
  {
   "cell_type": "code",
   "execution_count": null,
   "metadata": {},
   "outputs": [],
   "source": []
  }
 ],
 "metadata": {
  "kernelspec": {
   "display_name": "Python 3",
   "language": "python",
   "name": "python3"
  },
  "language_info": {
   "codemirror_mode": {
    "name": "ipython",
    "version": 3
   },
   "file_extension": ".py",
   "mimetype": "text/x-python",
   "name": "python",
   "nbconvert_exporter": "python",
   "pygments_lexer": "ipython3",
   "version": "3.7.6"
  }
 },
 "nbformat": 4,
 "nbformat_minor": 4
}
