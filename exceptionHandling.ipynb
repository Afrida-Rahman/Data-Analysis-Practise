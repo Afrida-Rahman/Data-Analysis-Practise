{
 "cells": [
  {
   "cell_type": "markdown",
   "metadata": {},
   "source": [
    "# Errors"
   ]
  },
  {
   "cell_type": "code",
   "execution_count": 14,
   "metadata": {},
   "outputs": [
    {
     "ename": "UnsupportedOperation",
     "evalue": "not writable",
     "output_type": "error",
     "traceback": [
      "\u001b[1;31m---------------------------------------------------------------------------\u001b[0m",
      "\u001b[1;31mUnsupportedOperation\u001b[0m                      Traceback (most recent call last)",
      "\u001b[1;32m<ipython-input-14-8d388809bce4>\u001b[0m in \u001b[0;36m<module>\u001b[1;34m\u001b[0m\n\u001b[0;32m      1\u001b[0m \u001b[0mf\u001b[0m\u001b[1;33m=\u001b[0m\u001b[0mopen\u001b[0m\u001b[1;33m(\u001b[0m\u001b[1;34m'test1.txt'\u001b[0m\u001b[1;33m)\u001b[0m\u001b[1;33m\u001b[0m\u001b[1;33m\u001b[0m\u001b[0m\n\u001b[1;32m----> 2\u001b[1;33m \u001b[0mf\u001b[0m\u001b[1;33m.\u001b[0m\u001b[0mwrite\u001b[0m\u001b[1;33m(\u001b[0m\u001b[1;34m'bvdhfvb'\u001b[0m\u001b[1;33m)\u001b[0m  \u001b[1;31m#error\u001b[0m\u001b[1;33m\u001b[0m\u001b[1;33m\u001b[0m\u001b[0m\n\u001b[0m",
      "\u001b[1;31mUnsupportedOperation\u001b[0m: not writable"
     ]
    }
   ],
   "source": [
    "f=open('test1.txt')\n",
    "f.write('bvdhfvb')  #error"
   ]
  },
  {
   "cell_type": "code",
   "execution_count": 15,
   "metadata": {},
   "outputs": [
    {
     "ename": "ZeroDivisionError",
     "evalue": "division by zero",
     "output_type": "error",
     "traceback": [
      "\u001b[1;31m---------------------------------------------------------------------------\u001b[0m",
      "\u001b[1;31mZeroDivisionError\u001b[0m                         Traceback (most recent call last)",
      "\u001b[1;32m<ipython-input-15-0106664d39e8>\u001b[0m in \u001b[0;36m<module>\u001b[1;34m\u001b[0m\n\u001b[1;32m----> 1\u001b[1;33m \u001b[1;36m5\u001b[0m\u001b[1;33m/\u001b[0m\u001b[1;36m0\u001b[0m\u001b[1;33m\u001b[0m\u001b[1;33m\u001b[0m\u001b[0m\n\u001b[0m",
      "\u001b[1;31mZeroDivisionError\u001b[0m: division by zero"
     ]
    }
   ],
   "source": [
    "5/0"
   ]
  },
  {
   "cell_type": "code",
   "execution_count": 16,
   "metadata": {},
   "outputs": [
    {
     "ename": "SyntaxError",
     "evalue": "EOL while scanning string literal (<ipython-input-16-126035ba983d>, line 1)",
     "output_type": "error",
     "traceback": [
      "\u001b[1;36m  File \u001b[1;32m\"<ipython-input-16-126035ba983d>\"\u001b[1;36m, line \u001b[1;32m1\u001b[0m\n\u001b[1;33m    print('hello)\u001b[0m\n\u001b[1;37m                 ^\u001b[0m\n\u001b[1;31mSyntaxError\u001b[0m\u001b[1;31m:\u001b[0m EOL while scanning string literal\n"
     ]
    }
   ],
   "source": [
    "print('hello)"
   ]
  },
  {
   "cell_type": "code",
   "execution_count": 17,
   "metadata": {},
   "outputs": [
    {
     "ename": "TypeError",
     "evalue": "can only concatenate str (not \"int\") to str",
     "output_type": "error",
     "traceback": [
      "\u001b[1;31m---------------------------------------------------------------------------\u001b[0m",
      "\u001b[1;31mTypeError\u001b[0m                                 Traceback (most recent call last)",
      "\u001b[1;32m<ipython-input-17-a7a468d14506>\u001b[0m in \u001b[0;36m<module>\u001b[1;34m\u001b[0m\n\u001b[1;32m----> 1\u001b[1;33m \u001b[1;34m\"sudh\"\u001b[0m\u001b[1;33m+\u001b[0m\u001b[1;36m8\u001b[0m\u001b[1;33m\u001b[0m\u001b[1;33m\u001b[0m\u001b[0m\n\u001b[0m",
      "\u001b[1;31mTypeError\u001b[0m: can only concatenate str (not \"int\") to str"
     ]
    }
   ],
   "source": [
    "\"sudh\"+8"
   ]
  },
  {
   "cell_type": "code",
   "execution_count": 18,
   "metadata": {},
   "outputs": [
    {
     "name": "stdout",
     "output_type": "stream",
     "text": [
      "Test write This again \n"
     ]
    },
    {
     "ename": "UnsupportedOperation",
     "evalue": "not writable",
     "output_type": "error",
     "traceback": [
      "\u001b[1;31m---------------------------------------------------------------------------\u001b[0m",
      "\u001b[1;31mUnsupportedOperation\u001b[0m                      Traceback (most recent call last)",
      "\u001b[1;32m<ipython-input-18-5a0db56fdca8>\u001b[0m in \u001b[0;36m<module>\u001b[1;34m\u001b[0m\n\u001b[0;32m      1\u001b[0m \u001b[0mf\u001b[0m\u001b[1;33m=\u001b[0m\u001b[0mopen\u001b[0m\u001b[1;33m(\u001b[0m\u001b[1;34m'test1.txt'\u001b[0m\u001b[1;33m)\u001b[0m\u001b[1;33m\u001b[0m\u001b[1;33m\u001b[0m\u001b[0m\n\u001b[0;32m      2\u001b[0m \u001b[0mprint\u001b[0m\u001b[1;33m(\u001b[0m\u001b[0mf\u001b[0m\u001b[1;33m.\u001b[0m\u001b[0mread\u001b[0m\u001b[1;33m(\u001b[0m\u001b[1;33m)\u001b[0m\u001b[1;33m)\u001b[0m\u001b[1;33m\u001b[0m\u001b[1;33m\u001b[0m\u001b[0m\n\u001b[1;32m----> 3\u001b[1;33m \u001b[0mf\u001b[0m\u001b[1;33m.\u001b[0m\u001b[0mwrite\u001b[0m\u001b[1;33m(\u001b[0m\u001b[1;34m'my name i sdam'\u001b[0m\u001b[1;33m)\u001b[0m\u001b[1;33m\u001b[0m\u001b[1;33m\u001b[0m\u001b[0m\n\u001b[0m\u001b[0;32m      4\u001b[0m \u001b[0mprint\u001b[0m\u001b[1;33m(\u001b[0m\u001b[1;34m'this id skjfbk'\u001b[0m\u001b[1;33m)\u001b[0m\u001b[1;33m\u001b[0m\u001b[1;33m\u001b[0m\u001b[0m\n",
      "\u001b[1;31mUnsupportedOperation\u001b[0m: not writable"
     ]
    }
   ],
   "source": [
    "f=open('test1.txt')\n",
    "print(f.read())\n",
    "f.write('my name i sdam')\n",
    "print('this id skjfbk')"
   ]
  },
  {
   "cell_type": "code",
   "execution_count": 20,
   "metadata": {},
   "outputs": [
    {
     "name": "stdout",
     "output_type": "stream",
     "text": [
      "give data : y\n"
     ]
    },
    {
     "ename": "ValueError",
     "evalue": "invalid literal for int() with base 10: 'y'",
     "output_type": "error",
     "traceback": [
      "\u001b[1;31m---------------------------------------------------------------------------\u001b[0m",
      "\u001b[1;31mValueError\u001b[0m                                Traceback (most recent call last)",
      "\u001b[1;32m<ipython-input-20-b9df6cad9820>\u001b[0m in \u001b[0;36m<module>\u001b[1;34m\u001b[0m\n\u001b[1;32m----> 1\u001b[1;33m \u001b[0ma\u001b[0m\u001b[1;33m=\u001b[0m\u001b[0mint\u001b[0m\u001b[1;33m(\u001b[0m\u001b[0minput\u001b[0m\u001b[1;33m(\u001b[0m\u001b[1;34m'give data : '\u001b[0m\u001b[1;33m)\u001b[0m\u001b[1;33m)\u001b[0m\u001b[1;33m\u001b[0m\u001b[1;33m\u001b[0m\u001b[0m\n\u001b[0m\u001b[0;32m      2\u001b[0m \u001b[0mb\u001b[0m\u001b[1;33m=\u001b[0m\u001b[0ma\u001b[0m\u001b[1;33m/\u001b[0m\u001b[1;36m9\u001b[0m\u001b[1;33m\u001b[0m\u001b[1;33m\u001b[0m\u001b[0m\n\u001b[0;32m      3\u001b[0m \u001b[0mb\u001b[0m\u001b[1;33m\u001b[0m\u001b[1;33m\u001b[0m\u001b[0m\n",
      "\u001b[1;31mValueError\u001b[0m: invalid literal for int() with base 10: 'y'"
     ]
    }
   ],
   "source": [
    "a=int(input('give data : '))\n",
    "b=a/9\n",
    "b"
   ]
  },
  {
   "cell_type": "markdown",
   "metadata": {},
   "source": [
    "# Try  & except (in different situation)"
   ]
  },
  {
   "cell_type": "code",
   "execution_count": 21,
   "metadata": {},
   "outputs": [
    {
     "name": "stdout",
     "output_type": "stream",
     "text": [
      "Test write This again \n"
     ]
    }
   ],
   "source": [
    "try:\n",
    "    f=open('test1.txt')\n",
    "    print(f.read())\n",
    "    \n",
    "except:\n",
    "    print('this is not correct')"
   ]
  },
  {
   "cell_type": "code",
   "execution_count": 22,
   "metadata": {},
   "outputs": [
    {
     "name": "stdout",
     "output_type": "stream",
     "text": [
      "this is not correct\n"
     ]
    }
   ],
   "source": [
    "try:\n",
    "    f=open('test1.txt')\n",
    "    print(f.write('jdhvfbdj'))  # Error ,so it goes to except\n",
    "    \n",
    "except:\n",
    "    print('this is not correct')"
   ]
  },
  {
   "cell_type": "code",
   "execution_count": 23,
   "metadata": {},
   "outputs": [
    {
     "name": "stdout",
     "output_type": "stream",
     "text": [
      "this is not correct\n",
      "start again .....\n"
     ]
    }
   ],
   "source": [
    "try:\n",
    "    f=open('test1.txt')\n",
    "    print(f.write('jdhvfbdj'))  # Error ,so it goes to except\n",
    "    \n",
    "except:\n",
    "    print('this is not correct')\n",
    "print('start again .....')  # error can't stop printing in this case"
   ]
  },
  {
   "cell_type": "code",
   "execution_count": 24,
   "metadata": {},
   "outputs": [
    {
     "name": "stdout",
     "output_type": "stream",
     "text": [
      "this is not correct\n",
      "give data : g\n",
      "sorry ...\n"
     ]
    }
   ],
   "source": [
    "try:\n",
    "    f=open('test1.txt')\n",
    "    print(f.write('jdhvfbdj'))  # Error ,so it goes to 1st except\n",
    "    \n",
    "except:\n",
    "    print('this is not correct')\n",
    "    \n",
    "try:\n",
    "    a=int(input('give data : '))\n",
    "    b=a/9\n",
    "    print(b)\n",
    "except:\n",
    "    print('sorry ...')"
   ]
  },
  {
   "cell_type": "code",
   "execution_count": 25,
   "metadata": {},
   "outputs": [
    {
     "name": "stdout",
     "output_type": "stream",
     "text": [
      "this is not correct\n",
      "give data : 6\n",
      "nested try block prb\n",
      "from else block\n"
     ]
    }
   ],
   "source": [
    "#'else' block works like for else block\n",
    "#(means, if try block executes, 'else' will execute ,otherwise not)\n",
    "try:\n",
    "    f=open('test1.txt')\n",
    "    print(f.write('jdhvfbdj'))  # Error ,so it goes to 1st except\n",
    "    \n",
    "except:\n",
    "    print('this is not correct')\n",
    "    \n",
    "try:\n",
    "    a=int(input('give data : '))\n",
    "    try:\n",
    "        b=a/0\n",
    "        print(b)\n",
    "    except:\n",
    "        print('nested try block prb')\n",
    "except:\n",
    "    print('sorry ...')\n",
    "else:       # it works like for else block(means, if try block executes, else will execute ,otherwise not)\n",
    "    print('from else block')"
   ]
  },
  {
   "cell_type": "code",
   "execution_count": 26,
   "metadata": {},
   "outputs": [
    {
     "name": "stdout",
     "output_type": "stream",
     "text": [
      "1st try block fails\n",
      "give data : t\n",
      "sorry ...2nd try block fails\n",
      "finally block can run  though all blocks fail\n"
     ]
    }
   ],
   "source": [
    "#'finally block' will always execute\n",
    "# whatever happens in other try & else block, finally must executes\n",
    "# but if there exists any mistakes in finally, then it will fail,but it tries to run the code\n",
    "# it is not manipulated by other blocks(benefit)\n",
    "\n",
    "#'else' block works like for else block\n",
    "#(means, if try block executes, 'else' will execute ,otherwise not)\n",
    "try:\n",
    "    f=open('test1.txt')\n",
    "    print(f.write('jdhvfbdj'))  # Error ,so it goes to 1st except\n",
    "    \n",
    "except:\n",
    "    print('1st try block fails')\n",
    "    \n",
    "try:\n",
    "    a=int(input('give data : '))\n",
    "    try:\n",
    "        b=a/0\n",
    "        print(b)\n",
    "    except:\n",
    "        print('nested try block prb')\n",
    "except:\n",
    "    print('sorry ...2nd try block fails')\n",
    "else:       # it works like for else block(means, if try block executes, else will execute ,otherwise not)\n",
    "    print('from else block')\n",
    "    \n",
    "finally:\n",
    "    print('finally block can run  though all blocks fail')\n"
   ]
  },
  {
   "cell_type": "markdown",
   "metadata": {},
   "source": [
    "# Assignments"
   ]
  },
  {
   "cell_type": "markdown",
   "metadata": {},
   "source": [
    "2. Implement a Python program to generate all sentences where subject is in [\"Americans\", \"Indians\"] and verb is in [\"Play\", \"watch\"] and the object is in [\"Baseball\",\"cricket\"]. \n",
    "Hint: Subject,Verb and Object should be declared in the program as shown below.\\ \n",
    "subjects=[\"Americans \",\"Indians\"]\\ verbs=[\"play\",\"watch\"]\\ objects=[\"Baseball\",\"Cricket\"]\\ \n",
    "Output should come as below: \\\n",
    "Americans play Baseball.\\ Americans play Cricket.\\ Americans watch Baseball. \\ Americans watch Cricket.\\ Indians play Baseball.\\ Indians play Cricket. \\ Indians watch Baseball.\\ Indians watch Cricket. \n"
   ]
  },
  {
   "cell_type": "code",
   "execution_count": 27,
   "metadata": {},
   "outputs": [
    {
     "name": "stdout",
     "output_type": "stream",
     "text": [
      "Americans play Baseball\n",
      "Americans play Cricket\n",
      "Americans watch Baseball\n",
      "Americans watch Cricket\n",
      "Indians play Baseball\n",
      "Indians play Cricket\n",
      "Indians watch Baseball\n",
      "Indians watch Cricket\n"
     ]
    }
   ],
   "source": [
    "subjects=[\"Americans\",\"Indians\"] \n",
    "verbs=[\"play\",\"watch\"] \n",
    "objects=[\"Baseball\",\"Cricket\"] \n",
    "\n",
    "for i in subjects:\n",
    "    for j in verbs:\n",
    "        for k in objects:\n",
    "            print(i,j,k)\n"
   ]
  },
  {
   "cell_type": "markdown",
   "metadata": {},
   "source": [
    "# Write a function to compute 5/0 and use try/except to catch the exceptions. \n"
   ]
  },
  {
   "cell_type": "code",
   "execution_count": 28,
   "metadata": {},
   "outputs": [
    {
     "name": "stdout",
     "output_type": "stream",
     "text": [
      "Infinite\n"
     ]
    }
   ],
   "source": [
    "def compute(a,b):\n",
    "    try:\n",
    "        c=a/b\n",
    "        print(c)\n",
    "    except:\n",
    "        print('Infinite')\n",
    "compute(5,0)"
   ]
  },
  {
   "cell_type": "markdown",
   "metadata": {},
   "source": [
    "# @@@@@ Task in class @@@\n",
    "two input -> a,b     do->(a/b)\n",
    " keep on asking continuously until the correct value is given ."
   ]
  },
  {
   "cell_type": "code",
   "execution_count": 29,
   "metadata": {},
   "outputs": [
    {
     "name": "stdout",
     "output_type": "stream",
     "text": [
      "a : g\n",
      "sorry , wrong input, give correct input again.\n",
      "a : 3\n",
      "b : g\n",
      "sorry , wrong input, give correct input again.\n",
      "a : 5\n",
      "b : 8\n",
      "0.625\n"
     ]
    }
   ],
   "source": [
    "while 1:    # u can use 1 or True (both works same)\n",
    "    try:\n",
    "        a=int(input('a : '))\n",
    "        b=int(input('b : '))\n",
    "        c=a/b\n",
    "        print(c)\n",
    "        break\n",
    "    except:\n",
    "        print('sorry , wrong input, give correct input again.')\n",
    "        continue"
   ]
  },
  {
   "cell_type": "code",
   "execution_count": 30,
   "metadata": {},
   "outputs": [
    {
     "name": "stdout",
     "output_type": "stream",
     "text": [
      "content is written successfully\n"
     ]
    }
   ],
   "source": [
    "try:\n",
    "    f=open('test1.txt','w')\n",
    "    f.write('Test write This again ')\n",
    "except IOError:\n",
    "    print('Error : could not find file or read data')\n",
    "else:\n",
    "    print('content is written successfully')"
   ]
  },
  {
   "cell_type": "code",
   "execution_count": 31,
   "metadata": {},
   "outputs": [
    {
     "name": "stdout",
     "output_type": "stream",
     "text": [
      "Error : could not find file or read data\n"
     ]
    }
   ],
   "source": [
    "# show customized error msg for particular errors \n",
    "\n",
    "try:\n",
    "    f=open('test1.txt')  #error\n",
    "    f.write('Test write This again ')\n",
    "except IOError:\n",
    "    print('Error : could not find file or read data')\n",
    "else:\n",
    "    print('content is written successfully')"
   ]
  },
  {
   "cell_type": "code",
   "execution_count": 32,
   "metadata": {},
   "outputs": [
    {
     "name": "stdout",
     "output_type": "stream",
     "text": [
      "Error : could not find file or read data :not writable\n"
     ]
    }
   ],
   "source": [
    "# show customized error with system generated error 'not writable'\n",
    "\n",
    "try:\n",
    "    f=open('test1.txt')  #error\n",
    "    f.write('Test write This again ')\n",
    "except Exception as e:\n",
    "    print('Error : could not find file or read data :'+str(e)) #customized\n",
    "else:\n",
    "    print('content is written successfully')"
   ]
  },
  {
   "cell_type": "code",
   "execution_count": 33,
   "metadata": {},
   "outputs": [
    {
     "name": "stdout",
     "output_type": "stream",
     "text": [
      "system generated msg in a customized way : division by zero\n"
     ]
    }
   ],
   "source": [
    "try:\n",
    "    5/0  # error\n",
    "except Exception as e:\n",
    "    print('system generated msg in a customized way :',e) #customized\n",
    "else:\n",
    "    print('content is written successfully')"
   ]
  },
  {
   "cell_type": "code",
   "execution_count": null,
   "metadata": {},
   "outputs": [],
   "source": []
  },
  {
   "cell_type": "code",
   "execution_count": null,
   "metadata": {},
   "outputs": [],
   "source": []
  }
 ],
 "metadata": {
  "kernelspec": {
   "display_name": "Python 3",
   "language": "python",
   "name": "python3"
  },
  "language_info": {
   "codemirror_mode": {
    "name": "ipython",
    "version": 3
   },
   "file_extension": ".py",
   "mimetype": "text/x-python",
   "name": "python",
   "nbconvert_exporter": "python",
   "pygments_lexer": "ipython3",
   "version": "3.7.6"
  }
 },
 "nbformat": 4,
 "nbformat_minor": 4
}
