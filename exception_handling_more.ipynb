{
 "cells": [
  {
   "cell_type": "code",
   "execution_count": 1,
   "metadata": {},
   "outputs": [
    {
     "name": "stdout",
     "output_type": "stream",
     "text": [
      "a : 4\n",
      "b : f\n"
     ]
    },
    {
     "ename": "ValueError",
     "evalue": "invalid literal for int() with base 10: 'f'",
     "output_type": "error",
     "traceback": [
      "\u001b[1;31m---------------------------------------------------------------------------\u001b[0m",
      "\u001b[1;31mValueError\u001b[0m                                Traceback (most recent call last)",
      "\u001b[1;32m<ipython-input-1-eabe9bdebdd5>\u001b[0m in \u001b[0;36m<module>\u001b[1;34m\u001b[0m\n\u001b[0;32m      4\u001b[0m \u001b[1;32mtry\u001b[0m\u001b[1;33m:\u001b[0m\u001b[1;33m\u001b[0m\u001b[1;33m\u001b[0m\u001b[0m\n\u001b[0;32m      5\u001b[0m     \u001b[0ma\u001b[0m\u001b[1;33m=\u001b[0m\u001b[0mint\u001b[0m\u001b[1;33m(\u001b[0m\u001b[0minput\u001b[0m\u001b[1;33m(\u001b[0m\u001b[1;34m'a : '\u001b[0m\u001b[1;33m)\u001b[0m\u001b[1;33m)\u001b[0m\u001b[1;33m\u001b[0m\u001b[1;33m\u001b[0m\u001b[0m\n\u001b[1;32m----> 6\u001b[1;33m     \u001b[0mb\u001b[0m\u001b[1;33m=\u001b[0m\u001b[0mint\u001b[0m\u001b[1;33m(\u001b[0m\u001b[0minput\u001b[0m\u001b[1;33m(\u001b[0m\u001b[1;34m'b : '\u001b[0m\u001b[1;33m)\u001b[0m\u001b[1;33m)\u001b[0m\u001b[1;33m\u001b[0m\u001b[1;33m\u001b[0m\u001b[0m\n\u001b[0m\u001b[0;32m      7\u001b[0m     \u001b[0mc\u001b[0m\u001b[1;33m=\u001b[0m\u001b[0ma\u001b[0m\u001b[1;33m/\u001b[0m\u001b[0mc\u001b[0m\u001b[1;33m\u001b[0m\u001b[1;33m\u001b[0m\u001b[0m\n\u001b[0;32m      8\u001b[0m \u001b[1;32mexcept\u001b[0m \u001b[0mIOError\u001b[0m\u001b[1;33m:\u001b[0m   \u001b[1;31m#exception is not matched with ioerror\u001b[0m\u001b[1;33m\u001b[0m\u001b[1;33m\u001b[0m\u001b[0m\n",
      "\u001b[1;31mValueError\u001b[0m: invalid literal for int() with base 10: 'f'"
     ]
    }
   ],
   "source": [
    "# show the super class of exception\n",
    "# show specific exception\n",
    "\n",
    "try:\n",
    "    a=int(input('a : '))\n",
    "    b=int(input('b : '))\n",
    "    c=a/c\n",
    "except IOError:   #exception is not matched with ioerror\n",
    "    print('there is an error')"
   ]
  },
  {
   "cell_type": "code",
   "execution_count": 2,
   "metadata": {},
   "outputs": [
    {
     "name": "stdout",
     "output_type": "stream",
     "text": [
      "a : f\n",
      "value error\n"
     ]
    }
   ],
   "source": [
    "# show the super class of exception\n",
    "# show specific exception\n",
    "\n",
    "try:\n",
    "    a=int(input('a : '))\n",
    "    b=int(input('b : '))\n",
    "    c=a/c\n",
    "\n",
    "except IOError:   #exception is not matched with ioerror\n",
    "    print('there is an error')    \n",
    "except ValueError:\n",
    "    print('value error')\n",
    "except SyntaxError:\n",
    "    print('syntax error')"
   ]
  },
  {
   "cell_type": "code",
   "execution_count": 3,
   "metadata": {},
   "outputs": [
    {
     "name": "stdout",
     "output_type": "stream",
     "text": [
      "a : f\n",
      "this is a super class of exception\n",
      " it will not check other specific exception\n",
      " so it is logical to set this super class into very last place \n",
      " by doing this, it will check all specific errors thn check the super class\n"
     ]
    }
   ],
   "source": [
    "#but i dont want remember the errors\n",
    "try:\n",
    "    a=int(input('a : '))\n",
    "    b=int(input('b : '))\n",
    "    c=a/c\n",
    "except Exception:\n",
    "    print('this is a super class of exception\\n '+\n",
    "          'it will not check other specific exception\\n '+\n",
    "          'so it is logical to set this super class into very last place \\n '+\n",
    "          'by doing this, it will check all specific errors thn check the super class')\n",
    "except IOError:   #exception is not matched with ioerror\n",
    "    print('there is an error')    \n",
    "except ValueError:\n",
    "    print('value error')\n",
    "except SyntaxError:\n",
    "    print('syntax error')"
   ]
  },
  {
   "cell_type": "code",
   "execution_count": 4,
   "metadata": {},
   "outputs": [
    {
     "name": "stdout",
     "output_type": "stream",
     "text": [
      "a : e\n",
      "value error\n"
     ]
    }
   ],
   "source": [
    "# set super class at last place\n",
    "try:\n",
    "    a=int(input('a : '))\n",
    "    b=int(input('b : '))\n",
    "    c=a/c\n",
    "\n",
    "except IOError:   #exception is not matched with ioerror\n",
    "    print('there is an error')    \n",
    "except ValueError:\n",
    "    print('value error')\n",
    "except SyntaxError:\n",
    "    print('syntax error')\n",
    "except Exception:   #####\n",
    "    print('this is a super class')"
   ]
  },
  {
   "cell_type": "code",
   "execution_count": 5,
   "metadata": {},
   "outputs": [
    {
     "name": "stdout",
     "output_type": "stream",
     "text": [
      "a : e\n",
      "there is an error in my code\n"
     ]
    }
   ],
   "source": [
    "# it can be written in another way\n",
    "\n",
    "try:\n",
    "    a=int(input('a : '))\n",
    "    b=int(input('b : '))\n",
    "    c=a/c\n",
    "\n",
    "except (IOError,SyntaxError,ValueError,Exception):   #multiple exception in one line\n",
    "    print('there is an error in my code')    "
   ]
  },
  {
   "cell_type": "code",
   "execution_count": 6,
   "metadata": {},
   "outputs": [
    {
     "name": "stdout",
     "output_type": "stream",
     "text": [
      "a : u\n",
      "this is from finally block\n",
      "but try block must be with except block\n",
      " thats why it will show error\n",
      "but finally block will always execute\n"
     ]
    },
    {
     "ename": "ValueError",
     "evalue": "invalid literal for int() with base 10: 'u'",
     "output_type": "error",
     "traceback": [
      "\u001b[1;31m---------------------------------------------------------------------------\u001b[0m",
      "\u001b[1;31mValueError\u001b[0m                                Traceback (most recent call last)",
      "\u001b[1;32m<ipython-input-6-8c9b06953130>\u001b[0m in \u001b[0;36m<module>\u001b[1;34m\u001b[0m\n\u001b[0;32m      1\u001b[0m \u001b[1;32mtry\u001b[0m\u001b[1;33m:\u001b[0m\u001b[1;33m\u001b[0m\u001b[1;33m\u001b[0m\u001b[0m\n\u001b[1;32m----> 2\u001b[1;33m     \u001b[0ma\u001b[0m\u001b[1;33m=\u001b[0m\u001b[0mint\u001b[0m\u001b[1;33m(\u001b[0m\u001b[0minput\u001b[0m\u001b[1;33m(\u001b[0m\u001b[1;34m'a : '\u001b[0m\u001b[1;33m)\u001b[0m\u001b[1;33m)\u001b[0m\u001b[1;33m\u001b[0m\u001b[1;33m\u001b[0m\u001b[0m\n\u001b[0m\u001b[0;32m      3\u001b[0m     \u001b[0mb\u001b[0m\u001b[1;33m=\u001b[0m\u001b[0mint\u001b[0m\u001b[1;33m(\u001b[0m\u001b[0minput\u001b[0m\u001b[1;33m(\u001b[0m\u001b[1;34m'b : '\u001b[0m\u001b[1;33m)\u001b[0m\u001b[1;33m)\u001b[0m\u001b[1;33m\u001b[0m\u001b[1;33m\u001b[0m\u001b[0m\n\u001b[0;32m      4\u001b[0m     \u001b[0mc\u001b[0m\u001b[1;33m=\u001b[0m\u001b[0ma\u001b[0m\u001b[1;33m/\u001b[0m\u001b[0mc\u001b[0m\u001b[1;33m\u001b[0m\u001b[1;33m\u001b[0m\u001b[0m\n\u001b[0;32m      5\u001b[0m \u001b[1;32mfinally\u001b[0m\u001b[1;33m:\u001b[0m\u001b[1;33m\u001b[0m\u001b[1;33m\u001b[0m\u001b[0m\n",
      "\u001b[1;31mValueError\u001b[0m: invalid literal for int() with base 10: 'u'"
     ]
    }
   ],
   "source": [
    "try:\n",
    "    a=int(input('a : '))\n",
    "    b=int(input('b : '))\n",
    "    c=a/c\n",
    "finally: \n",
    "    print('this is from finally block\\n'+\n",
    "          'but try block must be with except block\\n '+\n",
    "          'thats why it will show error\\n'+\n",
    "          'but finally block will always execute')"
   ]
  },
  {
   "cell_type": "code",
   "execution_count": 7,
   "metadata": {},
   "outputs": [],
   "source": [
    "def askint():\n",
    "        try:\n",
    "            val = int(input(\"Please enter an integer: \"))\n",
    "        except:\n",
    "            print(\"Looks like you did not enter an integer!\")\n",
    "            try:\n",
    "                val = int(input(\"Try again-Please enter an integer: \"))\n",
    "            except:\n",
    "                print(\"handle it \")\n",
    "        finally:\n",
    "            print(\"Finally, I executed!\")"
   ]
  },
  {
   "cell_type": "code",
   "execution_count": 9,
   "metadata": {},
   "outputs": [
    {
     "name": "stdout",
     "output_type": "stream",
     "text": [
      "Please enter an integer: u\n",
      "Looks like you did not enter an integer!\n",
      "Try again-Please enter an integer: y\n",
      "handle it \n",
      "Finally, I executed!\n"
     ]
    }
   ],
   "source": [
    "askint()"
   ]
  },
  {
   "cell_type": "code",
   "execution_count": null,
   "metadata": {},
   "outputs": [],
   "source": [
    "# keep on asking integer until the value is correct\n",
    "def askint():\n",
    "    while True:\n",
    "        try:\n",
    "            val = int(input(\"Please enter an integer: \"))\n",
    "            break\n",
    "        except:\n",
    "            print(\"Looks like you did not enter an integer!\")\n",
    "            continue\n",
    "        finally:\n",
    "             print(\"Finally, I executed!\")\n",
    "            \n",
    "askint()"
   ]
  },
  {
   "cell_type": "code",
   "execution_count": 11,
   "metadata": {},
   "outputs": [
    {
     "name": "stdout",
     "output_type": "stream",
     "text": [
      "Please enter an integer: u\n",
      "Looks like you did not enter an integer!\n",
      "Finally, I executed!\n",
      "Please enter an integer: t\n",
      "Looks like you did not enter an integer!\n",
      "Finally, I executed!\n",
      "Please enter an integer: r\n",
      "Looks like you did not enter an integer!\n",
      "Finally, I executed!\n",
      "Please enter an integer: e\n",
      "Looks like you did not enter an integer!\n",
      "Finally, I executed!\n",
      "Please enter an integer: 6\n",
      "yep it is an integer\n",
      "Finally, I executed!\n"
     ]
    }
   ],
   "source": [
    "# keep on asking integer until the value is correct\n",
    "def askint():\n",
    "    while True:\n",
    "        try:\n",
    "            val = int(input(\"Please enter an integer: \"))\n",
    "        except:\n",
    "            print(\"Looks like you did not enter an integer!\")\n",
    "            continue\n",
    "        else:\n",
    "            print('yep it is an integer')\n",
    "            break\n",
    "        finally:      # it will execute always \n",
    "             print(\"Finally, I executed!\")\n",
    "            \n",
    "askint()"
   ]
  },
  {
   "cell_type": "markdown",
   "metadata": {},
   "source": [
    "# @@@@ task in class @@@\n",
    "\n",
    "open a file in read mode,\n",
    "do a write operation\\\n",
    "specific except condition,else & finally block (include)"
   ]
  },
  {
   "cell_type": "code",
   "execution_count": 15,
   "metadata": {},
   "outputs": [
    {
     "name": "stdout",
     "output_type": "stream",
     "text": [
      "ioerror\n",
      "finally\n"
     ]
    }
   ],
   "source": [
    "try:\n",
    "    f=open('test1.txt','r')\n",
    "    f.write('testing purpose')\n",
    "except IOError:\n",
    "    print('ioerror')\n",
    "except SyntaxError:\n",
    "    print('syntaxerror')\n",
    "except ValueError:\n",
    "    print('valueerror')\n",
    "except Exception:\n",
    "    print('other exception')\n",
    "else:\n",
    "    print('error occurred')\n",
    "finally:\n",
    "    print('finally')"
   ]
  },
  {
   "cell_type": "code",
   "execution_count": 28,
   "metadata": {},
   "outputs": [
    {
     "name": "stdout",
     "output_type": "stream",
     "text": [
      "Enter integer a : 5\n",
      "Enter integer b : 1\n",
      "5.0\n",
      "Exception: input value of b  is one\n"
     ]
    }
   ],
   "source": [
    "# how to create our own exception:\n",
    "class myException_divisionByone(Exception):   #Exception is a super class\n",
    "    pass\n",
    "\n",
    "try:\n",
    "    a=int(input('Enter integer a : '))\n",
    "    b=int(input('Enter integer b : '))\n",
    "    c=a/b\n",
    "    print(c)\n",
    "    if b==1 :\n",
    "        raise myException_divisionByone\n",
    "        \n",
    "except myException_divisionByone:\n",
    "    print('Exception: input value of b  is one')\n",
    "    \n"
   ]
  },
  {
   "cell_type": "code",
   "execution_count": 31,
   "metadata": {},
   "outputs": [
    {
     "name": "stdout",
     "output_type": "stream",
     "text": [
      "Enter integer a : 2\n",
      "Enter integer b : 4\n",
      "Exception: input data is string\n"
     ]
    }
   ],
   "source": [
    "# how to create our own exception:   @@@ need raise keyword\n",
    "class myException_divisionByone(Exception):   #Exception is a super class\n",
    "    pass\n",
    "class inputAsString(Exception):\n",
    "    pass\n",
    "try:\n",
    "    a=input('Enter integer a : ')\n",
    "    b=int(input('Enter integer b : '))\n",
    "    \n",
    "    if b==1 :\n",
    "        raise myException_divisionByone\n",
    "        \n",
    "    elif type(a)==str:\n",
    "        raise inputAsString\n",
    "        \n",
    "except myException_divisionByone:\n",
    "    print('Exception: input value of b  is one')\n",
    "    \n",
    "except inputAsString:\n",
    "    print('Exception: input data is string')"
   ]
  },
  {
   "cell_type": "markdown",
   "metadata": {},
   "source": [
    "# @@@@ task in class @@@\n",
    "variable a =[]\\\n",
    "b=string\\\n",
    "a+b\\\n",
    "if a & b are not same data type \\\n",
    "exception arise(str concatenation)"
   ]
  },
  {
   "cell_type": "code",
   "execution_count": 36,
   "metadata": {},
   "outputs": [
    {
     "name": "stdout",
     "output_type": "stream",
     "text": [
      "cannot possible to concatenate string with list\n"
     ]
    }
   ],
   "source": [
    "class string_list_concatenation(Exception):\n",
    "    pass\n",
    "\n",
    "try: \n",
    "    a=[2,3,5,7]\n",
    "    b='samma'    \n",
    "    if type(a)!=type(b):\n",
    "        raise string_list_concatenation\n",
    "        \n",
    "except string_list_concatenation:\n",
    "    print('cannot possible to concatenate string with list')    "
   ]
  },
  {
   "cell_type": "code",
   "execution_count": null,
   "metadata": {},
   "outputs": [],
   "source": []
  }
 ],
 "metadata": {
  "kernelspec": {
   "display_name": "Python 3",
   "language": "python",
   "name": "python3"
  },
  "language_info": {
   "codemirror_mode": {
    "name": "ipython",
    "version": 3
   },
   "file_extension": ".py",
   "mimetype": "text/x-python",
   "name": "python",
   "nbconvert_exporter": "python",
   "pygments_lexer": "ipython3",
   "version": "3.7.6"
  }
 },
 "nbformat": 4,
 "nbformat_minor": 4
}
